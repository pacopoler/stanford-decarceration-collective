{
 "cells": [
  {
   "cell_type": "code",
   "execution_count": 2,
   "id": "f74f05c4-193c-4ae8-b51c-d5b3e16c6c7e",
   "metadata": {},
   "outputs": [],
   "source": [
    "import os\n",
    "import sys\n",
    "sys.path.insert(0, os.path.relpath('../')) \n",
    "\n",
    "import numpy as np\n",
    "import pandas as pd\n",
    "import matplotlib.pyplot as plt\n",
    "\n",
    "from super_simulation.super_simulation_factory import SuperSimulationFactory\n",
    "from transition_table import TransitionTable\n",
    "from shell_compartment import ShellCompartment\n",
    "from spark_policy import SparkPolicy\n",
    "from utils.spark_bq_utils import upload_spark_model_inputs\n",
    "import pandas as pd\n",
    "from functools import partial\n",
    "\n",
    "pd.set_option('display.max_rows', 500)\n",
    "pd.set_option('display.max_columns', 100)"
   ]
  },
  {
   "cell_type": "code",
   "execution_count": null,
   "id": "d0d6d8c4-3904-452d-8392-ded051c8a382",
   "metadata": {},
   "outputs": [],
   "source": [
    "sentence_data = pd.DataFrame({\n",
    "    \n",
    "})\n",
    "\n",
    "sentence_lengths = pd.DataFrame({\n",
    "    \n",
    "})"
   ]
  }
 ],
 "metadata": {
  "kernelspec": {
   "display_name": "Python 3 (ipykernel)",
   "language": "python",
   "name": "python3"
  },
  "language_info": {
   "codemirror_mode": {
    "name": "ipython",
    "version": 3
   },
   "file_extension": ".py",
   "mimetype": "text/x-python",
   "name": "python",
   "nbconvert_exporter": "python",
   "pygments_lexer": "ipython3",
   "version": "3.8.10"
  }
 },
 "nbformat": 4,
 "nbformat_minor": 5
}
