{
 "cells": [
  {
   "cell_type": "code",
   "execution_count": 1,
   "id": "dc78a927",
   "metadata": {},
   "outputs": [],
   "source": [
    "import pandas as pd\n",
    "from selenium import webdriver\n",
    "from selenium.webdriver.common.by import By\n",
    "import time"
   ]
  },
  {
   "cell_type": "code",
   "execution_count": 17,
   "id": "64a08f94",
   "metadata": {
    "scrolled": true
   },
   "outputs": [],
   "source": [
    "# URLs for CDCR monthly parole hearing data\n",
    "URLS = [\"https://www.cdcr.ca.gov/bph/2021/06/25/hearing-results-may-2021/\", \"https://www.cdcr.ca.gov/bph/2022/07/20/hearing-results-june-2022/\", \"https://www.cdcr.ca.gov/bph/2022/08/17/hearing-results-july-2022/\", \"https://www.cdcr.ca.gov/bph/2022/09/21/hearing-results-august-2022/\", \"https://www.cdcr.ca.gov/bph/2022/10/19/hearing-results-september-2022/\", \"https://www.cdcr.ca.gov/bph/2022/11/16/hearing-results-october-2022/\", \"https://www.cdcr.ca.gov/bph/2022/12/21/hearing-results-november-2022/\", \"https://www.cdcr.ca.gov/bph/2023/01/25/hearing-results-december-2022/\", \"https://www.cdcr.ca.gov/bph/2023/02/22/hearing-results-january-2023/\", \"https://www.cdcr.ca.gov/bph/2023/03/22/hearing-results-february-2023/\", \"https://www.cdcr.ca.gov/bph/2022/04/13/hearing-results-march-2022-2/\", \"https://www.cdcr.ca.gov/bph/2023/05/17/hearing-results-april-2023/\"]\n",
    "\n",
    "# Run webscraping in the background\n",
    "driver_options = webdriver.FirefoxOptions()\n",
    "driver_options.add_argument(\"--headless\")\n",
    "driver = webdriver.Firefox(options=driver_options)\n",
    "\n",
    "# Extract dates and hearing results from monthly data tables\n",
    "def get_monthly_hearings(url, hearings):\n",
    "    driver.get(url)\n",
    "    parole_results = driver.find_elements(By.CSS_SELECTOR, \"table td:last-child\")\n",
    "    parole_dates = driver.find_elements(By.CSS_SELECTOR, \"table td:nth-child(6)\")\n",
    "    \n",
    "    for result, date in zip(parole_results, parole_dates):        \n",
    "        hearings.loc[len(hearings)] = {\"date\": date.text, \"full_result\": result.text}\n",
    "        \n",
    "    return hearings\n",
    "\n",
    "# Aggregate monthly results as dataframe\n",
    "def get_hearings():\n",
    "    hearings = pd.DataFrame({\"date\": [], \"full_result\": []})\n",
    "\n",
    "    for url in URLS:\n",
    "        hearings = get_monthly_hearings(url, hearings)\n",
    "            \n",
    "    return hearings\n",
    "\n",
    "hearings = get_hearings()\n",
    "driver.quit()"
   ]
  },
  {
   "cell_type": "code",
   "execution_count": 42,
   "id": "142a4211",
   "metadata": {},
   "outputs": [],
   "source": [
    "# Hearing results are formatted as \"<result> <length of setoff> <setoff units>\" (ex. \"Deny 3 mo\")\n",
    "# This function parses this into separate columns for result and setoff time in months\n",
    "def parse_result(row):\n",
    "    full_result = row[\"full_result\"].split()\n",
    "    row[\"result\"] = full_result[0]\n",
    "    \n",
    "    setoff = full_result[1:]\n",
    "    row[\"setoff\"] = float(\"nan\")\n",
    "    \n",
    "    # Only denial hearings will actually have setoffs included\n",
    "    if len(setoff) >= 2:\n",
    "        duration = int(setoff[0])\n",
    "        unit = setoff[1]\n",
    "        \n",
    "        row[\"setoff\"] = duration\n",
    "\n",
    "        if unit == \"yr\":\n",
    "            row[\"setoff\"] *= 12\n",
    "            \n",
    "    return row\n",
    "\n",
    "\n",
    "hearings = hearings.apply(parse_result, axis=1)"
   ]
  },
  {
   "cell_type": "code",
   "execution_count": 47,
   "id": "8fc316a9",
   "metadata": {},
   "outputs": [
    {
     "data": {
      "text/plain": [
       "<Axes: >"
      ]
     },
     "execution_count": 47,
     "metadata": {},
     "output_type": "execute_result"
    },
    {
     "data": {
      "image/png": "[encoded data removed]",
      "text/plain": [
       "<Figure size 640x480 with 1 Axes>"
      ]
     },
     "metadata": {},
     "output_type": "display_data"
    }
   ],
   "source": [
    "# Distribution of setoff times for parole denials\n",
    "hearings[hearings[\"result\"] == \"Deny\"][\"setoff\"].hist()"
   ]
  },
  {
   "cell_type": "code",
   "execution_count": 48,
   "id": "765ba602",
   "metadata": {},
   "outputs": [
    {
     "data": {
      "text/plain": [
       "46.372948128693366"
      ]
     },
     "execution_count": 48,
     "metadata": {},
     "output_type": "execute_result"
    }
   ],
   "source": [
    "# Mean setoff time\n",
    "hearings[hearings[\"result\"] == \"Deny\"][\"setoff\"].mean()"
   ]
  }
 ],
 "metadata": {
  "kernelspec": {
   "display_name": "Python 3 (ipykernel)",
   "language": "python",
   "name": "python3"
  },
  "language_info": {
   "codemirror_mode": {
    "name": "ipython",
    "version": 3
   },
   "file_extension": ".py",
   "mimetype": "text/x-python",
   "name": "python",
   "nbconvert_exporter": "python",
   "pygments_lexer": "ipython3",
   "version": "3.8.8"
  }
 },
 "nbformat": 4,
 "nbformat_minor": 5
}
