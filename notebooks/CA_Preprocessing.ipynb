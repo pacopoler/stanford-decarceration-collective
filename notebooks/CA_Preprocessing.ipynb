{
 "cells": [
  {
   "cell_type": "markdown",
   "id": "628af22a",
   "metadata": {
    "toc": true
   },
   "source": [
    "<h1>Table of Contents<span class=\"tocSkip\"></span></h1>\n",
    "<div class=\"toc\"><ul class=\"toc-item\"></ul></div>"
   ]
  },
  {
   "cell_type": "code",
   "execution_count": 1,
   "id": "270844b6",
   "metadata": {},
   "outputs": [],
   "source": [
    "import os\n",
    "import sys\n",
    "sys.path.insert(0, os.path.relpath('../')) \n",
    "\n",
    "import numpy as np\n",
    "import pandas as pd\n",
    "import matplotlib.pyplot as plt\n",
    "\n",
    "from super_simulation.super_simulation_factory import SuperSimulationFactory\n",
    "from transition_table import TransitionTable\n",
    "from spark_policy import SparkPolicy\n",
    "from utils.spark_bq_utils import upload_spark_model_inputs\n",
    "import pandas as pd\n",
    "from functools import partial\n",
    "\n",
    "pd.set_option('display.max_rows', 500)"
   ]
  },
  {
   "cell_type": "code",
   "execution_count": 58,
   "id": "d7340d8e",
   "metadata": {},
   "outputs": [],
   "source": [
    "# load population data\n",
    "\n",
    "total_pop = pd.read_csv(\"../state/CA/CA_total_pop_by_crime_category.csv\")\n",
    "total_pop = total_pop.iloc[:, :6]\n",
    "\n",
    "# load admissions data\n",
    "\n",
    "admissions = pd.read_csv(\"../state/CA/CA_admissions_by_crime_category.csv\")\n",
    "admissions = admissions.iloc[:, :6]"
   ]
  },
  {
   "cell_type": "markdown",
   "id": "be224c07",
   "metadata": {},
   "source": [
    "Preprocess the data: make sure that the data types are right, the numbers are formatted properly, deal with missing values, etc."
   ]
  },
  {
   "cell_type": "code",
   "execution_count": 60,
   "id": "66899665",
   "metadata": {},
   "outputs": [],
   "source": [
    "# create month and year columns for total_pop\n",
    "\n",
    "month_year = total_pop.Date.str.split(\" \" , n=1, expand = True)\n",
    "total_pop[\"Month\"], total_pop[\"Year\"] = month_year.iloc[:, 0], month_year.iloc[:, 1]\n",
    "total_pop = total_pop.drop(\"Date\", axis = 1)\n",
    "\n",
    "total_pop.Month = total_pop.index % 12 + 1\n",
    "\n",
    "# another way to do this:\n",
    "# month_to_number = {\"January\": 1, \"February\": 2, ...}\n",
    "# total_pop.Month = total_pop.Month.map(month_to_number)\n",
    "\n",
    "# a third way to do this:\n",
    "# for i in range (len(total_pop)): \n",
    "#    total_pop.iloc[i,5] = i % 12 + 1\n",
    "\n",
    "# create month and year columns for admissions table\n",
    "\n",
    "month_year_admissions = admissions.Date.str.split(\" \" , n=1, expand = True)\n",
    "admissions[\"Month\"], admissions[\"Year\"] = month_year_admissions.iloc[:, 0], month_year_admissions.iloc[:, 1]\n",
    "admissions = admissions.drop(\"Date\", axis = 1)\n",
    "\n",
    "admissions.Month = admissions.index % 12 + 1"
   ]
  },
  {
   "cell_type": "code",
   "execution_count": 62,
   "id": "fe66ac27",
   "metadata": {},
   "outputs": [],
   "source": [
    "# remove commas from columns\n",
    "\n",
    "def remove_commas(df, column_name):\n",
    "    df[f\"{column_name}\"] = df[f\"{column_name}\"].apply(lambda x: x.replace(\",\", \"\"))\n",
    "\n",
    "remove_commas(total_pop, \"Crimes Against Persons\")\n",
    "remove_commas(total_pop, \"Property Crimes\")\n",
    "remove_commas(total_pop, \"Drug Crimes\")\n",
    "remove_commas(total_pop, \"Other Crimes\")\n",
    "\n",
    "remove_commas(admissions, \"Crimes Against Persons\")\n",
    "remove_commas(admissions, \"Property Crimes\")\n",
    "remove_commas(admissions, \"Drug Crimes\")\n",
    "remove_commas(admissions, \"Other Crimes\")"
   ]
  },
  {
   "cell_type": "code",
   "execution_count": 64,
   "id": "7e38be5b",
   "metadata": {},
   "outputs": [
    {
     "data": {
      "text/plain": [
       "Crimes Against Persons      int64\n",
       "Property Crimes             int64\n",
       "Drug Crimes                 int64\n",
       "Other Crimes                int64\n",
       "Missing                   float64\n",
       "Month                       int64\n",
       "Year                        int64\n",
       "dtype: object"
      ]
     },
     "execution_count": 64,
     "metadata": {},
     "output_type": "execute_result"
    }
   ],
   "source": [
    "# check data types of columns in each df\n",
    "\n",
    "total_pop.dtypes\n",
    "admissions.dtypes"
   ]
  },
  {
   "cell_type": "code",
   "execution_count": 69,
   "id": "b32c6302",
   "metadata": {},
   "outputs": [],
   "source": [
    "# change types of total_pop columns, drop Missing column\n",
    "\n",
    "total_pop = total_pop.astype(int)\n",
    "total_pop = total_pop.drop(\"Missing\", axis=1)\n",
    "\n",
    "# replace x's and *'s in code, drop Missing column\n",
    "\n",
    "admissions = admissions.replace(\"x\", 0)\n",
    "admissions = admissions.drop(\"Missing\", axis=1)\n",
    "admissions = admissions.replace(\"*\", 5)\n",
    "admissions = admissions.astype(int)"
   ]
  },
  {
   "cell_type": "code",
   "execution_count": 84,
   "id": "bd7f2284",
   "metadata": {},
   "outputs": [],
   "source": [
    "# add time step column, graph data\n",
    "\n",
    "total_pop[\"time_step\"] = total_pop.index\n",
    "total_pop_chart = total_pop.drop([\"Month\", \"Year\"], axis=1).plot.bar(x='time_step', stacked=True)\n",
    "\n",
    "admissions[\"time_step\"] = total_pop.index\n",
    "admissions_chart = admissions.drop([\"Month\", \"Year\"], axis=1).plot.bar(x='time_step', stacked=True)"
   ]
  },
  {
   "cell_type": "code",
   "execution_count": 112,
   "id": "0db97f2d",
   "metadata": {},
   "outputs": [],
   "source": [
    "# in the future: look at ARIMA line of best fit to make sure it makes sense"
   ]
  },
  {
   "cell_type": "markdown",
   "id": "dd11a9ed",
   "metadata": {},
   "source": [
    "Next step: Transitions Data"
   ]
  },
  {
   "cell_type": "code",
   "execution_count": null,
   "id": "d65aa2de",
   "metadata": {},
   "outputs": [],
   "source": [
    "# how do you use total population and admissions data to get transitions data?\n",
    "\n",
    "# total number of people\n",
    "# number of people coming into prison\n",
    "# goal: how long they stay in prison\n",
    "\n",
    "# admissions * LOS = population"
   ]
  },
  {
   "cell_type": "code",
   "execution_count": 103,
   "id": "4ae4044f",
   "metadata": {},
   "outputs": [
    {
     "data": {
      "text/plain": [
       "<AxesSubplot: >"
      ]
     },
     "execution_count": 103,
     "metadata": {},
     "output_type": "execute_result"
    },
    {
     "data": {
      "image/png": "[encoded data removed]",
      "text/plain": [
       "<Figure size 640x480 with 1 Axes>"
      ]
     },
     "metadata": {},
     "output_type": "display_data"
    }
   ],
   "source": [
    "# plot average population / average admissions\n",
    "\n",
    "(total_pop.iloc[:, 0:4].sum(axis=1) / admissions.iloc[:, 0:4].sum(axis=1)).plot(ylim = [0,100])"
   ]
  },
  {
   "cell_type": "code",
   "execution_count": null,
   "id": "a0233651",
   "metadata": {},
   "outputs": [],
   "source": []
  }
 ],
 "metadata": {
  "kernelspec": {
   "display_name": "Python 3 (ipykernel)",
   "language": "python",
   "name": "python3"
  },
  "language_info": {
   "codemirror_mode": {
    "name": "ipython",
    "version": 3
   },
   "file_extension": ".py",
   "mimetype": "text/x-python",
   "name": "python",
   "nbconvert_exporter": "python",
   "pygments_lexer": "ipython3",
   "version": "3.8.13"
  },
  "toc": {
   "base_numbering": 1,
   "nav_menu": {},
   "number_sections": true,
   "sideBar": true,
   "skip_h1_title": false,
   "title_cell": "Table of Contents",
   "title_sidebar": "Contents",
   "toc_cell": true,
   "toc_position": {},
   "toc_section_display": true,
   "toc_window_display": false
  }
 },
 "nbformat": 4,
 "nbformat_minor": 5
}
