{
 "cells": [
  {
   "cell_type": "markdown",
   "id": "628af22a",
   "metadata": {
    "toc": true
   },
   "source": [
    "<h1>Table of Contents<span class=\"tocSkip\"></span></h1>\n",
    "<div class=\"toc\"><ul class=\"toc-item\"></ul></div>"
   ]
  },
  {
   "cell_type": "code",
   "execution_count": 1,
   "id": "270844b6",
   "metadata": {},
   "outputs": [],
   "source": [
    "import os\n",
    "import sys\n",
    "sys.path.insert(0, os.path.relpath('../')) \n",
    "\n",
    "import numpy as np\n",
    "import pandas as pd\n",
    "import matplotlib.pyplot as plt\n",
    "\n",
    "from super_simulation.super_simulation_factory import SuperSimulationFactory\n",
    "from transition_table import TransitionTable\n",
    "from spark_policy import SparkPolicy\n",
    "from utils.spark_bq_utils import upload_spark_model_inputs\n",
    "import pandas as pd\n",
    "from functools import partial\n",
    "\n",
    "pd.set_option('display.max_rows', 500)"
   ]
  },
  {
   "cell_type": "code",
   "execution_count": 3,
   "id": "d7340d8e",
   "metadata": {},
   "outputs": [
    {
     "data": {
      "text/html": [
       "<div>\n",
       "<style scoped>\n",
       "    .dataframe tbody tr th:only-of-type {\n",
       "        vertical-align: middle;\n",
       "    }\n",
       "\n",
       "    .dataframe tbody tr th {\n",
       "        vertical-align: top;\n",
       "    }\n",
       "\n",
       "    .dataframe thead th {\n",
       "        text-align: right;\n",
       "    }\n",
       "</style>\n",
       "<table border=\"1\" class=\"dataframe\">\n",
       "  <thead>\n",
       "    <tr style=\"text-align: right;\">\n",
       "      <th></th>\n",
       "      <th>Date</th>\n",
       "      <th>Crimes Against Persons</th>\n",
       "      <th>Property Crimes</th>\n",
       "      <th>Drug Crimes</th>\n",
       "      <th>Other Crimes</th>\n",
       "      <th>Missing</th>\n",
       "    </tr>\n",
       "  </thead>\n",
       "  <tbody>\n",
       "    <tr>\n",
       "      <th>0</th>\n",
       "      <td>January 2018</td>\n",
       "      <td>98,544</td>\n",
       "      <td>13,755</td>\n",
       "      <td>5,621</td>\n",
       "      <td>11,637</td>\n",
       "      <td>NaN</td>\n",
       "    </tr>\n",
       "    <tr>\n",
       "      <th>1</th>\n",
       "      <td>February 2018</td>\n",
       "      <td>98,444</td>\n",
       "      <td>13,798</td>\n",
       "      <td>5,615</td>\n",
       "      <td>11,546</td>\n",
       "      <td>NaN</td>\n",
       "    </tr>\n",
       "    <tr>\n",
       "      <th>2</th>\n",
       "      <td>March 2018</td>\n",
       "      <td>98,599</td>\n",
       "      <td>13,716</td>\n",
       "      <td>5,628</td>\n",
       "      <td>11,706</td>\n",
       "      <td>NaN</td>\n",
       "    </tr>\n",
       "    <tr>\n",
       "      <th>3</th>\n",
       "      <td>April 2018</td>\n",
       "      <td>98,313</td>\n",
       "      <td>13,617</td>\n",
       "      <td>5,604</td>\n",
       "      <td>11,464</td>\n",
       "      <td>NaN</td>\n",
       "    </tr>\n",
       "    <tr>\n",
       "      <th>4</th>\n",
       "      <td>May 2018</td>\n",
       "      <td>98,465</td>\n",
       "      <td>13,590</td>\n",
       "      <td>5,587</td>\n",
       "      <td>11,677</td>\n",
       "      <td>NaN</td>\n",
       "    </tr>\n",
       "  </tbody>\n",
       "</table>\n",
       "</div>"
      ],
      "text/plain": [
       "            Date Crimes Against Persons Property Crimes Drug Crimes  \\\n",
       "0   January 2018                 98,544          13,755       5,621   \n",
       "1  February 2018                 98,444          13,798       5,615   \n",
       "2     March 2018                 98,599          13,716       5,628   \n",
       "3     April 2018                 98,313          13,617       5,604   \n",
       "4       May 2018                 98,465          13,590       5,587   \n",
       "\n",
       "  Other Crimes  Missing  \n",
       "0       11,637      NaN  \n",
       "1       11,546      NaN  \n",
       "2       11,706      NaN  \n",
       "3       11,464      NaN  \n",
       "4       11,677      NaN  "
      ]
     },
     "execution_count": 3,
     "metadata": {},
     "output_type": "execute_result"
    }
   ],
   "source": [
    "# load population data\n",
    "\n",
    "total_pop = pd.read_csv(\"../state/CA/CA_total_pop_by_crime_category.csv\")\n",
    "total_pop = total_pop.iloc[:, :6]\n",
    "\n",
    "# load admissions data\n",
    "\n",
    "admissions = pd.read_csv(\"../state/CA/CA_admissions_by_crime_category.csv\")\n",
    "admissions = admissions.iloc[:, :6]"
   ]
  },
  {
   "cell_type": "code",
   "execution_count": 30,
   "id": "a7686401",
   "metadata": {},
   "outputs": [],
   "source": [
    "# Pre-processing plan:\n",
    "# 1. dates to date format\n",
    "# 2. numbers to int, get rid of commas\n",
    "# 3. 2020-2021 \"missing\" column + missing data"
   ]
  },
  {
   "cell_type": "code",
   "execution_count": 4,
   "id": "66899665",
   "metadata": {},
   "outputs": [],
   "source": [
    "# create month and year columns for total_pop\n",
    "\n",
    "month_year = total_pop.Date.str.split(\" \" , n=1, expand = True)\n",
    "total_pop[\"Month\"], total_pop[\"Year\"] = month_year.iloc[:, 0], month_year.iloc[:, 1]\n",
    "total_pop = total_pop.drop(\"Date\", axis = 1)\n",
    "\n",
    "total_pop.Month = total_pop.index % 12 + 1\n",
    "\n",
    "# another way to do this:\n",
    "# month_to_number = {\"January\": 1, \"February\": 2, ...}\n",
    "# total_pop.Month = total_pop.Month.map(month_to_number)\n",
    "\n",
    "# a third way to do this:\n",
    "# for i in range (len(total_pop)): \n",
    "#    total_pop.iloc[i,5] = i % 12 + 1\n",
    "\n",
    "# create month and year columns for admissions table\n",
    "\n",
    "month_year_admissions = admissions.Date.str.split(\" \" , n=1, expand = True)\n",
    "admissions[\"Month\"], admissions[\"Year\"] = month_year_admissions.iloc[:, 0], month_year_admissions.iloc[:, 1]\n",
    "admissions = admissions.drop(\"Date\", axis = 1)\n",
    "\n",
    "admissions.Month = admissions.index % 12 + 1"
   ]
  },
  {
   "cell_type": "code",
   "execution_count": 44,
   "id": "fe66ac27",
   "metadata": {},
   "outputs": [],
   "source": [
    "# remove commas from columns\n",
    "\n",
    "def remove_commas(df, column_name):\n",
    "    df[f\"{column_name}\"] = df[f\"{column_name}\"].apply(lambda x: x.replace(\",\", \"\"))\n",
    "\n",
    "remove_commas(total_pop, \"Crimes Against Persons\")\n",
    "remove_commas(total_pop, \"Property Crimes\")\n",
    "remove_commas(total_pop, \"Drug Crimes\")\n",
    "remove_commas(total_pop, \"Other Crimes\")\n",
    "\n",
    "remove_commas(admissions, \"Crimes Against Persons\")\n",
    "remove_commas(admissions, \"Property Crimes\")\n",
    "remove_commas(admissions, \"Drug Crimes\")\n",
    "remove_commas(admissions, \"Other Crimes\")"
   ]
  },
  {
   "cell_type": "code",
   "execution_count": 63,
   "id": "8c158d0f",
   "metadata": {},
   "outputs": [],
   "source": [
    "# change types of total_pop columns\n",
    "\n",
    "total_pop[\"Crimes Against Persons\"] = total_pop[\"Crimes Against Persons\"].astype(\"int64\")\n",
    "total_pop[\"Property Crimes\"] = total_pop[\"Property Crimes\"].astype(\"int64\")\n",
    "total_pop[\"Drug Crimes\"] = total_pop[\"Drug Crimes\"].astype(\"int64\")\n",
    "total_pop[\"Other Crimes\"] = total_pop[\"Other Crimes\"].astype(\"int64\")\n",
    "total_pop[\"Year\"] = total_pop[\"Year\"].astype(\"int64\")\n",
    "\n",
    "# what should we do with NaN values in total_pop[\"Missing\"]?"
   ]
  },
  {
   "cell_type": "code",
   "execution_count": 67,
   "id": "0606da70",
   "metadata": {},
   "outputs": [
    {
     "data": {
      "text/plain": [
       "Crimes Against Persons    object\n",
       "Property Crimes           object\n",
       "Drug Crimes               object\n",
       "Other Crimes              object\n",
       "Missing                   object\n",
       "Month                      int64\n",
       "Year                      object\n",
       "dtype: object"
      ]
     },
     "execution_count": 67,
     "metadata": {},
     "output_type": "execute_result"
    }
   ],
   "source": [
    "admissions.dtypes"
   ]
  },
  {
   "cell_type": "code",
   "execution_count": 72,
   "id": "d7ffa281",
   "metadata": {},
   "outputs": [],
   "source": [
    "# in admissions table: x means no number was reported, * means that the number was <10 so CA dashboard didn't give actual number\n",
    "# options: \n",
    "# we could drop the rows with x's in them\n",
    "# we could replace the x's with 0?\n",
    "# we could use the perceding and subsequent year's data to replace each x\n",
    "\n",
    "# for replacing *'s, we could replace them with any number [0,10]\n"
   ]
  },
  {
   "cell_type": "code",
   "execution_count": null,
   "id": "6850c1a8",
   "metadata": {},
   "outputs": [],
   "source": []
  }
 ],
 "metadata": {
  "kernelspec": {
   "display_name": "Python 3 (ipykernel)",
   "language": "python",
   "name": "python3"
  },
  "language_info": {
   "codemirror_mode": {
    "name": "ipython",
    "version": 3
   },
   "file_extension": ".py",
   "mimetype": "text/x-python",
   "name": "python",
   "nbconvert_exporter": "python",
   "pygments_lexer": "ipython3",
   "version": "3.8.13"
  },
  "toc": {
   "base_numbering": 1,
   "nav_menu": {},
   "number_sections": true,
   "sideBar": true,
   "skip_h1_title": false,
   "title_cell": "Table of Contents",
   "title_sidebar": "Contents",
   "toc_cell": true,
   "toc_position": {},
   "toc_section_display": true,
   "toc_window_display": false
  }
 },
 "nbformat": 4,
 "nbformat_minor": 5
}
